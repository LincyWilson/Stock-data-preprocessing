{
 "cells": [
  {
   "cell_type": "markdown",
   "id": "25e52d27",
   "metadata": {},
   "source": [
    "IMPORTING pd & os:"
   ]
  },
  {
   "cell_type": "code",
   "execution_count": 48,
   "id": "d2bb29d6",
   "metadata": {},
   "outputs": [],
   "source": [
    "import  pandas as pd\n",
    "import os"
   ]
  },
  {
   "cell_type": "markdown",
   "id": "015f3c16",
   "metadata": {},
   "source": [
    "IMPORTING DATASET AND CHECKING FOR DUPLICATE VALUES:"
   ]
  },
  {
   "cell_type": "code",
   "execution_count": 49,
   "id": "2a871045",
   "metadata": {},
   "outputs": [],
   "source": [
    "data_1=os.chdir(r\"C:\\Users\\CC\\Downloads\\New folder\")\n",
    "data_1=pd.read_csv('Stock_File_1.csv')"
   ]
  },
  {
   "cell_type": "code",
   "execution_count": 50,
   "id": "98a3cef9",
   "metadata": {},
   "outputs": [
    {
     "data": {
      "text/html": [
       "<div>\n",
       "<style scoped>\n",
       "    .dataframe tbody tr th:only-of-type {\n",
       "        vertical-align: middle;\n",
       "    }\n",
       "\n",
       "    .dataframe tbody tr th {\n",
       "        vertical-align: top;\n",
       "    }\n",
       "\n",
       "    .dataframe thead th {\n",
       "        text-align: right;\n",
       "    }\n",
       "</style>\n",
       "<table border=\"1\" class=\"dataframe\">\n",
       "  <thead>\n",
       "    <tr style=\"text-align: right;\">\n",
       "      <th></th>\n",
       "      <th>Date</th>\n",
       "      <th>Open</th>\n",
       "      <th>High</th>\n",
       "      <th>Low</th>\n",
       "      <th>Close</th>\n",
       "      <th>Volume</th>\n",
       "    </tr>\n",
       "  </thead>\n",
       "  <tbody>\n",
       "  </tbody>\n",
       "</table>\n",
       "</div>"
      ],
      "text/plain": [
       "Empty DataFrame\n",
       "Columns: [Date, Open, High, Low, Close, Volume]\n",
       "Index: []"
      ]
     },
     "execution_count": 50,
     "metadata": {},
     "output_type": "execute_result"
    }
   ],
   "source": [
    "data_1[data_1.duplicated(['Date'],keep=False)]"
   ]
  },
  {
   "cell_type": "code",
   "execution_count": 51,
   "id": "ace0726a",
   "metadata": {},
   "outputs": [],
   "source": [
    "data_1=data_1.drop_duplicates()"
   ]
  },
  {
   "cell_type": "code",
   "execution_count": 52,
   "id": "17811452",
   "metadata": {},
   "outputs": [
    {
     "data": {
      "text/html": [
       "<div>\n",
       "<style scoped>\n",
       "    .dataframe tbody tr th:only-of-type {\n",
       "        vertical-align: middle;\n",
       "    }\n",
       "\n",
       "    .dataframe tbody tr th {\n",
       "        vertical-align: top;\n",
       "    }\n",
       "\n",
       "    .dataframe thead th {\n",
       "        text-align: right;\n",
       "    }\n",
       "</style>\n",
       "<table border=\"1\" class=\"dataframe\">\n",
       "  <thead>\n",
       "    <tr style=\"text-align: right;\">\n",
       "      <th></th>\n",
       "      <th>Date</th>\n",
       "      <th>Open</th>\n",
       "      <th>High</th>\n",
       "      <th>Low</th>\n",
       "      <th>Close</th>\n",
       "      <th>Volume</th>\n",
       "    </tr>\n",
       "  </thead>\n",
       "  <tbody>\n",
       "    <tr>\n",
       "      <th>0</th>\n",
       "      <td>1-Jun-06</td>\n",
       "      <td>471.60</td>\n",
       "      <td>474.00</td>\n",
       "      <td>442.0</td>\n",
       "      <td>444.42</td>\n",
       "      <td>21900</td>\n",
       "    </tr>\n",
       "    <tr>\n",
       "      <th>1</th>\n",
       "      <td>12-Jun-06</td>\n",
       "      <td>454.00</td>\n",
       "      <td>464.00</td>\n",
       "      <td>440.0</td>\n",
       "      <td>446.17</td>\n",
       "      <td>8400</td>\n",
       "    </tr>\n",
       "    <tr>\n",
       "      <th>2</th>\n",
       "      <td>22-Jun-06</td>\n",
       "      <td>451.16</td>\n",
       "      <td>464.20</td>\n",
       "      <td>447.6</td>\n",
       "      <td>460.26</td>\n",
       "      <td>19400</td>\n",
       "    </tr>\n",
       "    <tr>\n",
       "      <th>3</th>\n",
       "      <td>3-Jul-06</td>\n",
       "      <td>495.10</td>\n",
       "      <td>509.68</td>\n",
       "      <td>493.0</td>\n",
       "      <td>498.97</td>\n",
       "      <td>9100</td>\n",
       "    </tr>\n",
       "    <tr>\n",
       "      <th>4</th>\n",
       "      <td>13-Jul-06</td>\n",
       "      <td>518.00</td>\n",
       "      <td>526.40</td>\n",
       "      <td>517.0</td>\n",
       "      <td>521.66</td>\n",
       "      <td>6800</td>\n",
       "    </tr>\n",
       "    <tr>\n",
       "      <th>...</th>\n",
       "      <td>...</td>\n",
       "      <td>...</td>\n",
       "      <td>...</td>\n",
       "      <td>...</td>\n",
       "      <td>...</td>\n",
       "      <td>...</td>\n",
       "    </tr>\n",
       "    <tr>\n",
       "      <th>160</th>\n",
       "      <td>11-Nov-10</td>\n",
       "      <td>NaN</td>\n",
       "      <td>898.00</td>\n",
       "      <td>855.0</td>\n",
       "      <td>857.95</td>\n",
       "      <td>27300</td>\n",
       "    </tr>\n",
       "    <tr>\n",
       "      <th>161</th>\n",
       "      <td>22-Nov-10</td>\n",
       "      <td>840.00</td>\n",
       "      <td>859.95</td>\n",
       "      <td>824.6</td>\n",
       "      <td>850.40</td>\n",
       "      <td>10200</td>\n",
       "    </tr>\n",
       "    <tr>\n",
       "      <th>162</th>\n",
       "      <td>1-Dec-10</td>\n",
       "      <td>769.00</td>\n",
       "      <td>814.00</td>\n",
       "      <td>765.2</td>\n",
       "      <td>794.05</td>\n",
       "      <td>20600</td>\n",
       "    </tr>\n",
       "    <tr>\n",
       "      <th>163</th>\n",
       "      <td>10-Dec-10</td>\n",
       "      <td>762.00</td>\n",
       "      <td>774.00</td>\n",
       "      <td>751.0</td>\n",
       "      <td>759.70</td>\n",
       "      <td>17400</td>\n",
       "    </tr>\n",
       "    <tr>\n",
       "      <th>164</th>\n",
       "      <td>21-Dec-10</td>\n",
       "      <td>770.00</td>\n",
       "      <td>775.00</td>\n",
       "      <td>752.2</td>\n",
       "      <td>760.70</td>\n",
       "      <td>24500</td>\n",
       "    </tr>\n",
       "  </tbody>\n",
       "</table>\n",
       "<p>165 rows × 6 columns</p>\n",
       "</div>"
      ],
      "text/plain": [
       "          Date    Open    High    Low   Close Volume\n",
       "0     1-Jun-06  471.60  474.00  442.0  444.42  21900\n",
       "1    12-Jun-06  454.00  464.00  440.0  446.17   8400\n",
       "2    22-Jun-06  451.16  464.20  447.6  460.26  19400\n",
       "3     3-Jul-06  495.10  509.68  493.0  498.97   9100\n",
       "4    13-Jul-06  518.00  526.40  517.0  521.66   6800\n",
       "..         ...     ...     ...    ...     ...    ...\n",
       "160  11-Nov-10     NaN  898.00  855.0  857.95  27300\n",
       "161  22-Nov-10  840.00  859.95  824.6  850.40  10200\n",
       "162   1-Dec-10  769.00  814.00  765.2  794.05  20600\n",
       "163  10-Dec-10  762.00  774.00  751.0  759.70  17400\n",
       "164  21-Dec-10  770.00  775.00  752.2  760.70  24500\n",
       "\n",
       "[165 rows x 6 columns]"
      ]
     },
     "execution_count": 52,
     "metadata": {},
     "output_type": "execute_result"
    }
   ],
   "source": [
    "data_1"
   ]
  },
  {
   "cell_type": "code",
   "execution_count": 53,
   "id": "c672c4f1",
   "metadata": {},
   "outputs": [],
   "source": [
    "data_2=os.chdir(r\"C:\\Users\\CC\\Downloads\\New folder\")\n",
    "data_2=pd.read_csv('Stock_File_2.txt')"
   ]
  },
  {
   "cell_type": "code",
   "execution_count": 54,
   "id": "ea7da5f9",
   "metadata": {},
   "outputs": [
    {
     "data": {
      "text/html": [
       "<div>\n",
       "<style scoped>\n",
       "    .dataframe tbody tr th:only-of-type {\n",
       "        vertical-align: middle;\n",
       "    }\n",
       "\n",
       "    .dataframe tbody tr th {\n",
       "        vertical-align: top;\n",
       "    }\n",
       "\n",
       "    .dataframe thead th {\n",
       "        text-align: right;\n",
       "    }\n",
       "</style>\n",
       "<table border=\"1\" class=\"dataframe\">\n",
       "  <thead>\n",
       "    <tr style=\"text-align: right;\">\n",
       "      <th></th>\n",
       "      <th>Date</th>\n",
       "      <th>Open</th>\n",
       "      <th>High</th>\n",
       "      <th>Low</th>\n",
       "      <th>Close</th>\n",
       "      <th>Volume</th>\n",
       "    </tr>\n",
       "  </thead>\n",
       "  <tbody>\n",
       "  </tbody>\n",
       "</table>\n",
       "</div>"
      ],
      "text/plain": [
       "Empty DataFrame\n",
       "Columns: [Date, Open, High, Low, Close, Volume]\n",
       "Index: []"
      ]
     },
     "execution_count": 54,
     "metadata": {},
     "output_type": "execute_result"
    }
   ],
   "source": [
    "data_2[data_2.duplicated(['Date'],keep=False)]"
   ]
  },
  {
   "cell_type": "code",
   "execution_count": 55,
   "id": "448af027",
   "metadata": {},
   "outputs": [],
   "source": [
    "data_2=data_2.drop_duplicates()"
   ]
  },
  {
   "cell_type": "code",
   "execution_count": 56,
   "id": "5212eadb",
   "metadata": {},
   "outputs": [
    {
     "data": {
      "text/html": [
       "<div>\n",
       "<style scoped>\n",
       "    .dataframe tbody tr th:only-of-type {\n",
       "        vertical-align: middle;\n",
       "    }\n",
       "\n",
       "    .dataframe tbody tr th {\n",
       "        vertical-align: top;\n",
       "    }\n",
       "\n",
       "    .dataframe thead th {\n",
       "        text-align: right;\n",
       "    }\n",
       "</style>\n",
       "<table border=\"1\" class=\"dataframe\">\n",
       "  <thead>\n",
       "    <tr style=\"text-align: right;\">\n",
       "      <th></th>\n",
       "      <th>Date</th>\n",
       "      <th>Open</th>\n",
       "      <th>High</th>\n",
       "      <th>Low</th>\n",
       "      <th>Close</th>\n",
       "      <th>Volume</th>\n",
       "    </tr>\n",
       "  </thead>\n",
       "  <tbody>\n",
       "    <tr>\n",
       "      <th>0</th>\n",
       "      <td>3-Jan-11</td>\n",
       "      <td>798.00</td>\n",
       "      <td>824.95</td>\n",
       "      <td>796.00</td>\n",
       "      <td>810.55</td>\n",
       "      <td>17600</td>\n",
       "    </tr>\n",
       "    <tr>\n",
       "      <th>1</th>\n",
       "      <td>13-Jan-11</td>\n",
       "      <td>748.10</td>\n",
       "      <td>768.00</td>\n",
       "      <td>NaN</td>\n",
       "      <td>752.85</td>\n",
       "      <td>13000</td>\n",
       "    </tr>\n",
       "    <tr>\n",
       "      <th>2</th>\n",
       "      <td>24-Jan-11</td>\n",
       "      <td>741.00</td>\n",
       "      <td>626.01</td>\n",
       "      <td>732.55</td>\n",
       "      <td>NaN</td>\n",
       "      <td>8700</td>\n",
       "    </tr>\n",
       "    <tr>\n",
       "      <th>3</th>\n",
       "      <td>1-Feb-11</td>\n",
       "      <td>753.00</td>\n",
       "      <td>753.00</td>\n",
       "      <td>712.10</td>\n",
       "      <td>717.25</td>\n",
       "      <td>23700</td>\n",
       "    </tr>\n",
       "    <tr>\n",
       "      <th>4</th>\n",
       "      <td>11-Feb-11</td>\n",
       "      <td>647.90</td>\n",
       "      <td>654.55</td>\n",
       "      <td>626.35</td>\n",
       "      <td>642.40</td>\n",
       "      <td>12800</td>\n",
       "    </tr>\n",
       "    <tr>\n",
       "      <th>...</th>\n",
       "      <td>...</td>\n",
       "      <td>...</td>\n",
       "      <td>...</td>\n",
       "      <td>...</td>\n",
       "      <td>...</td>\n",
       "      <td>...</td>\n",
       "    </tr>\n",
       "    <tr>\n",
       "      <th>199</th>\n",
       "      <td>11-Jul-16</td>\n",
       "      <td>1265.50</td>\n",
       "      <td>1287.00</td>\n",
       "      <td>NaN</td>\n",
       "      <td>1276.40</td>\n",
       "      <td>11800</td>\n",
       "    </tr>\n",
       "    <tr>\n",
       "      <th>200</th>\n",
       "      <td>21-Jul-16</td>\n",
       "      <td>1301.00</td>\n",
       "      <td>1322.10</td>\n",
       "      <td>1261.00</td>\n",
       "      <td>1270.55</td>\n",
       "      <td>36800</td>\n",
       "    </tr>\n",
       "    <tr>\n",
       "      <th>201</th>\n",
       "      <td>1-Aug-16</td>\n",
       "      <td>1279.65</td>\n",
       "      <td>NaN</td>\n",
       "      <td>1247.40</td>\n",
       "      <td>1250.65</td>\n",
       "      <td>4600</td>\n",
       "    </tr>\n",
       "    <tr>\n",
       "      <th>202</th>\n",
       "      <td>11-Aug-16</td>\n",
       "      <td>1180.05</td>\n",
       "      <td>683.00</td>\n",
       "      <td>1171.15</td>\n",
       "      <td>1191.35</td>\n",
       "      <td>4800</td>\n",
       "    </tr>\n",
       "    <tr>\n",
       "      <th>203</th>\n",
       "      <td>22-Aug-16</td>\n",
       "      <td>1168.20</td>\n",
       "      <td>1168.20</td>\n",
       "      <td>1148.40</td>\n",
       "      <td>1155.55</td>\n",
       "      <td>2600</td>\n",
       "    </tr>\n",
       "  </tbody>\n",
       "</table>\n",
       "<p>204 rows × 6 columns</p>\n",
       "</div>"
      ],
      "text/plain": [
       "          Date     Open     High      Low    Close Volume\n",
       "0     3-Jan-11   798.00   824.95   796.00   810.55  17600\n",
       "1    13-Jan-11   748.10   768.00      NaN   752.85  13000\n",
       "2    24-Jan-11   741.00   626.01   732.55      NaN   8700\n",
       "3     1-Feb-11   753.00   753.00   712.10   717.25  23700\n",
       "4    11-Feb-11   647.90   654.55   626.35   642.40  12800\n",
       "..         ...      ...      ...      ...      ...    ...\n",
       "199  11-Jul-16  1265.50  1287.00      NaN  1276.40  11800\n",
       "200  21-Jul-16  1301.00  1322.10  1261.00  1270.55  36800\n",
       "201   1-Aug-16  1279.65      NaN  1247.40  1250.65   4600\n",
       "202  11-Aug-16  1180.05   683.00  1171.15  1191.35   4800\n",
       "203  22-Aug-16  1168.20  1168.20  1148.40  1155.55   2600\n",
       "\n",
       "[204 rows x 6 columns]"
      ]
     },
     "execution_count": 56,
     "metadata": {},
     "output_type": "execute_result"
    }
   ],
   "source": [
    "data_2"
   ]
  },
  {
   "cell_type": "markdown",
   "id": "79409611",
   "metadata": {},
   "source": [
    "IMPORTING numpy:"
   ]
  },
  {
   "cell_type": "code",
   "execution_count": 57,
   "id": "87339155",
   "metadata": {},
   "outputs": [],
   "source": [
    "import numpy as np"
   ]
  },
  {
   "cell_type": "markdown",
   "id": "31635350",
   "metadata": {},
   "source": [
    "FINDING THE LENGTH OF UNIQUE VALUES IN EACH DATASET:"
   ]
  },
  {
   "cell_type": "code",
   "execution_count": 58,
   "id": "4833c2e6",
   "metadata": {},
   "outputs": [
    {
     "name": "stdout",
     "output_type": "stream",
     "text": [
      "165\n"
     ]
    }
   ],
   "source": [
    " print(len(np.unique(data_1['Date'])))"
   ]
  },
  {
   "cell_type": "code",
   "execution_count": 59,
   "id": "9527daf2",
   "metadata": {},
   "outputs": [
    {
     "name": "stdout",
     "output_type": "stream",
     "text": [
      "204\n"
     ]
    }
   ],
   "source": [
    " print(len(np.unique(data_2['Date'])))"
   ]
  },
  {
   "cell_type": "markdown",
   "id": "972ec147",
   "metadata": {},
   "source": [
    "MERGING DATA:"
   ]
  },
  {
   "cell_type": "code",
   "execution_count": 60,
   "id": "165c0f1d",
   "metadata": {},
   "outputs": [],
   "source": [
    "data=pd.concat([data_1,data_2])"
   ]
  },
  {
   "cell_type": "code",
   "execution_count": 61,
   "id": "1aa1403e",
   "metadata": {},
   "outputs": [
    {
     "data": {
      "text/html": [
       "<div>\n",
       "<style scoped>\n",
       "    .dataframe tbody tr th:only-of-type {\n",
       "        vertical-align: middle;\n",
       "    }\n",
       "\n",
       "    .dataframe tbody tr th {\n",
       "        vertical-align: top;\n",
       "    }\n",
       "\n",
       "    .dataframe thead th {\n",
       "        text-align: right;\n",
       "    }\n",
       "</style>\n",
       "<table border=\"1\" class=\"dataframe\">\n",
       "  <thead>\n",
       "    <tr style=\"text-align: right;\">\n",
       "      <th></th>\n",
       "      <th>Date</th>\n",
       "      <th>Open</th>\n",
       "      <th>High</th>\n",
       "      <th>Low</th>\n",
       "      <th>Close</th>\n",
       "      <th>Volume</th>\n",
       "    </tr>\n",
       "  </thead>\n",
       "  <tbody>\n",
       "    <tr>\n",
       "      <th>0</th>\n",
       "      <td>1-Jun-06</td>\n",
       "      <td>471.60</td>\n",
       "      <td>474.00</td>\n",
       "      <td>442.00</td>\n",
       "      <td>444.42</td>\n",
       "      <td>21900</td>\n",
       "    </tr>\n",
       "    <tr>\n",
       "      <th>1</th>\n",
       "      <td>12-Jun-06</td>\n",
       "      <td>454.00</td>\n",
       "      <td>464.00</td>\n",
       "      <td>440.00</td>\n",
       "      <td>446.17</td>\n",
       "      <td>8400</td>\n",
       "    </tr>\n",
       "    <tr>\n",
       "      <th>2</th>\n",
       "      <td>22-Jun-06</td>\n",
       "      <td>451.16</td>\n",
       "      <td>464.20</td>\n",
       "      <td>447.60</td>\n",
       "      <td>460.26</td>\n",
       "      <td>19400</td>\n",
       "    </tr>\n",
       "    <tr>\n",
       "      <th>3</th>\n",
       "      <td>3-Jul-06</td>\n",
       "      <td>495.10</td>\n",
       "      <td>509.68</td>\n",
       "      <td>493.00</td>\n",
       "      <td>498.97</td>\n",
       "      <td>9100</td>\n",
       "    </tr>\n",
       "    <tr>\n",
       "      <th>4</th>\n",
       "      <td>13-Jul-06</td>\n",
       "      <td>518.00</td>\n",
       "      <td>526.40</td>\n",
       "      <td>517.00</td>\n",
       "      <td>521.66</td>\n",
       "      <td>6800</td>\n",
       "    </tr>\n",
       "    <tr>\n",
       "      <th>...</th>\n",
       "      <td>...</td>\n",
       "      <td>...</td>\n",
       "      <td>...</td>\n",
       "      <td>...</td>\n",
       "      <td>...</td>\n",
       "      <td>...</td>\n",
       "    </tr>\n",
       "    <tr>\n",
       "      <th>199</th>\n",
       "      <td>11-Jul-16</td>\n",
       "      <td>1265.50</td>\n",
       "      <td>1287.00</td>\n",
       "      <td>NaN</td>\n",
       "      <td>1276.40</td>\n",
       "      <td>11800</td>\n",
       "    </tr>\n",
       "    <tr>\n",
       "      <th>200</th>\n",
       "      <td>21-Jul-16</td>\n",
       "      <td>1301.00</td>\n",
       "      <td>1322.10</td>\n",
       "      <td>1261.00</td>\n",
       "      <td>1270.55</td>\n",
       "      <td>36800</td>\n",
       "    </tr>\n",
       "    <tr>\n",
       "      <th>201</th>\n",
       "      <td>1-Aug-16</td>\n",
       "      <td>1279.65</td>\n",
       "      <td>NaN</td>\n",
       "      <td>1247.40</td>\n",
       "      <td>1250.65</td>\n",
       "      <td>4600</td>\n",
       "    </tr>\n",
       "    <tr>\n",
       "      <th>202</th>\n",
       "      <td>11-Aug-16</td>\n",
       "      <td>1180.05</td>\n",
       "      <td>683.00</td>\n",
       "      <td>1171.15</td>\n",
       "      <td>1191.35</td>\n",
       "      <td>4800</td>\n",
       "    </tr>\n",
       "    <tr>\n",
       "      <th>203</th>\n",
       "      <td>22-Aug-16</td>\n",
       "      <td>1168.20</td>\n",
       "      <td>1168.20</td>\n",
       "      <td>1148.40</td>\n",
       "      <td>1155.55</td>\n",
       "      <td>2600</td>\n",
       "    </tr>\n",
       "  </tbody>\n",
       "</table>\n",
       "<p>369 rows × 6 columns</p>\n",
       "</div>"
      ],
      "text/plain": [
       "          Date     Open     High      Low    Close Volume\n",
       "0     1-Jun-06   471.60   474.00   442.00   444.42  21900\n",
       "1    12-Jun-06   454.00   464.00   440.00   446.17   8400\n",
       "2    22-Jun-06   451.16   464.20   447.60   460.26  19400\n",
       "3     3-Jul-06   495.10   509.68   493.00   498.97   9100\n",
       "4    13-Jul-06   518.00   526.40   517.00   521.66   6800\n",
       "..         ...      ...      ...      ...      ...    ...\n",
       "199  11-Jul-16  1265.50  1287.00      NaN  1276.40  11800\n",
       "200  21-Jul-16  1301.00  1322.10  1261.00  1270.55  36800\n",
       "201   1-Aug-16  1279.65      NaN  1247.40  1250.65   4600\n",
       "202  11-Aug-16  1180.05   683.00  1171.15  1191.35   4800\n",
       "203  22-Aug-16  1168.20  1168.20  1148.40  1155.55   2600\n",
       "\n",
       "[369 rows x 6 columns]"
      ]
     },
     "execution_count": 61,
     "metadata": {},
     "output_type": "execute_result"
    }
   ],
   "source": [
    "data"
   ]
  },
  {
   "cell_type": "markdown",
   "id": "c8743f28",
   "metadata": {},
   "source": [
    "GETTING THE DATA TYPES OF THE ATTRIBUTES:"
   ]
  },
  {
   "cell_type": "code",
   "execution_count": 62,
   "id": "88caabf5",
   "metadata": {},
   "outputs": [
    {
     "data": {
      "text/plain": [
       "Date       object\n",
       "Open      float64\n",
       "High      float64\n",
       "Low       float64\n",
       "Close     float64\n",
       "Volume     object\n",
       "dtype: object"
      ]
     },
     "execution_count": 62,
     "metadata": {},
     "output_type": "execute_result"
    }
   ],
   "source": [
    "data.dtypes"
   ]
  },
  {
   "cell_type": "markdown",
   "id": "b0533597",
   "metadata": {},
   "source": [
    "CHECKING FOR NULL VALUES:"
   ]
  },
  {
   "cell_type": "code",
   "execution_count": 63,
   "id": "ba4ff349",
   "metadata": {},
   "outputs": [
    {
     "name": "stdout",
     "output_type": "stream",
     "text": [
      "<class 'pandas.core.frame.DataFrame'>\n",
      "Int64Index: 369 entries, 0 to 203\n",
      "Data columns (total 6 columns):\n",
      " #   Column  Non-Null Count  Dtype  \n",
      "---  ------  --------------  -----  \n",
      " 0   Date    369 non-null    object \n",
      " 1   Open    362 non-null    float64\n",
      " 2   High    353 non-null    float64\n",
      " 3   Low     356 non-null    float64\n",
      " 4   Close   355 non-null    float64\n",
      " 5   Volume  369 non-null    object \n",
      "dtypes: float64(4), object(2)\n",
      "memory usage: 20.2+ KB\n"
     ]
    }
   ],
   "source": [
    "data.info()"
   ]
  },
  {
   "cell_type": "markdown",
   "id": "d4ed9fe8",
   "metadata": {},
   "source": [
    "REPLACING NULL VALUES:"
   ]
  },
  {
   "cell_type": "code",
   "execution_count": 64,
   "id": "7c43a63a",
   "metadata": {},
   "outputs": [
    {
     "data": {
      "text/plain": [
       "count     362.000000\n",
       "mean      890.291768\n",
       "std       297.985046\n",
       "min       364.000000\n",
       "25%       700.555000\n",
       "50%       813.250000\n",
       "75%      1105.000000\n",
       "max      2291.950000\n",
       "Name: Open, dtype: float64"
      ]
     },
     "execution_count": 64,
     "metadata": {},
     "output_type": "execute_result"
    }
   ],
   "source": [
    "data['Open'].describe()"
   ]
  },
  {
   "cell_type": "code",
   "execution_count": 65,
   "id": "64cd34ac",
   "metadata": {},
   "outputs": [
    {
     "data": {
      "text/plain": [
       "array([ 364.  ,  373.5 ,  385.  ,  427.4 ,  428.  ,  435.  ,  438.  ,\n",
       "        451.16,  454.  ,  455.  ,  456.  ,  458.75,  464.  ,  466.25,\n",
       "        467.  ,  471.  ,  471.6 ,  474.  ,  478.  ,  480.  ,  483.2 ,\n",
       "        487.9 ,  491.7 ,  494.2 ,  495.1 ,  498.  ,  507.  ,  518.  ,\n",
       "        519.55,  530.  ,  532.  ,  540.  ,  541.  ,  546.7 ,  548.  ,\n",
       "        558.  ,  559.  ,  560.  ,  566.01,  568.7 ,  573.  ,  573.6 ,\n",
       "        573.9 ,  579.  ,  580.  ,  580.6 ,  585.  ,  591.  ,  593.  ,\n",
       "        597.  ,  599.  ,  606.  ,  607.  ,  610.  ,  611.5 ,  614.55,\n",
       "        619.  ,  620.  ,  630.  ,  635.  ,  637.  ,  642.  ,  647.9 ,\n",
       "        649.95,  651.  ,  653.  ,  660.  ,  661.  ,  663.7 ,  664.  ,\n",
       "        664.45,  668.35,  669.9 ,  670.  ,  672.  ,  674.14,  675.  ,\n",
       "        676.92,  680.25,  685.8 ,  686.75,  687.  ,  688.  ,  689.  ,\n",
       "        693.  ,  700.  ,  700.04,  702.1 ,  703.  ,  704.  ,  705.  ,\n",
       "        705.2 ,  706.25,  707.4 ,  708.  ,  710.  ,  712.  ,  712.5 ,\n",
       "        715.  ,  716.9 ,  718.  ,  718.95,  719.4 ,  722.  ,  724.  ,\n",
       "        724.8 ,  729.8 ,  731.  ,  735.5 ,  736.5 ,  736.6 ,  737.  ,\n",
       "        738.  ,  739.1 ,  740.  ,  741.  ,  745.  ,  746.  ,  747.  ,\n",
       "        748.1 ,  750.  ,  753.  ,  756.  ,  758.3 ,  759.5 ,  760.  ,\n",
       "        762.  ,  763.1 ,  764.2 ,  765.  ,  766.  ,  767.  ,  767.25,\n",
       "        768.  ,  769.  ,  770.  ,  770.05,  770.7 ,  771.  ,  773.  ,\n",
       "        773.45,  776.3 ,  777.35,  780.  ,  785.  ,  786.  ,  787.  ,\n",
       "        788.  ,  793.  ,  794.  ,  795.  ,  797.  ,  797.25,  797.9 ,\n",
       "        798.  ,  799.8 ,  802.  ,  803.  ,  804.  ,  808.  ,  811.95,\n",
       "        812.  ,  813.  ,  813.5 ,  814.85,  815.  ,  818.85,  820.5 ,\n",
       "        822.  ,  822.5 ,  824.55,  827.45,  830.1 ,  833.  ,  836.  ,\n",
       "        840.  ,  842.  ,  843.  ,  844.25,  845.25,  846.2 ,  847.  ,\n",
       "        850.  ,  851.  ,  853.3 ,  855.  ,  855.9 ,  856.  ,  857.1 ,\n",
       "        858.  ,  860.  ,  861.  ,  861.15,  862.1 ,  865.  ,  866.1 ,\n",
       "        867.  ,  870.  ,  870.45,  872.4 ,  874.5 ,  874.95,  876.1 ,\n",
       "        880.  ,  888.  ,  890.  ,  891.25,  895.75,  900.  ,  910.  ,\n",
       "        911.4 ,  918.  ,  920.  ,  922.  ,  927.  ,  930.  ,  932.  ,\n",
       "        976.  ,  980.  ,  990.  , 1007.45, 1013.3 , 1015.55, 1019.5 ,\n",
       "       1028.  , 1029.  , 1035.  , 1037.45, 1039.4 , 1040.  , 1050.  ,\n",
       "       1055.  , 1060.  , 1061.  , 1064.45, 1066.95, 1080.  , 1085.9 ,\n",
       "       1090.  , 1090.55, 1099.  , 1101.05, 1102.  , 1102.5 , 1105.  ,\n",
       "       1110.8 , 1120.  , 1120.05, 1122.35, 1123.3 , 1125.  , 1130.  ,\n",
       "       1131.  , 1131.15, 1131.8 , 1137.  , 1144.  , 1148.  , 1155.05,\n",
       "       1159.95, 1160.  , 1165.  , 1165.55, 1168.2 , 1168.75, 1174.  ,\n",
       "       1179.  , 1180.  , 1180.05, 1188.  , 1200.  , 1201.7 , 1208.15,\n",
       "       1210.  , 1224.65, 1225.2 , 1228.  , 1229.  , 1230.  , 1235.55,\n",
       "       1237.75, 1240.  , 1255.  , 1264.5 , 1265.  , 1265.5 , 1267.1 ,\n",
       "       1270.  , 1272.  , 1279.65, 1280.  , 1285.  , 1285.55, 1290.  ,\n",
       "       1291.  , 1296.65, 1301.  , 1310.  , 1318.  , 1322.9 , 1325.2 ,\n",
       "       1328.05, 1330.  , 1334.  , 1337.15, 1340.95, 1348.3 , 1350.  ,\n",
       "       1355.5 , 1366.5 , 1370.4 , 1386.  , 1386.7 , 1395.5 , 1402.75,\n",
       "       1414.6 , 1415.05, 1424.  , 1447.35, 1490.  , 1499.  , 1528.  ,\n",
       "       1550.  , 1575.  , 1580.  , 1614.  , 1620.  , 1727.85, 1755.8 ,\n",
       "       1778.  , 1800.45, 2291.95,     nan])"
      ]
     },
     "execution_count": 65,
     "metadata": {},
     "output_type": "execute_result"
    }
   ],
   "source": [
    "np.unique(data['Open'])"
   ]
  },
  {
   "cell_type": "code",
   "execution_count": 66,
   "id": "80951f79",
   "metadata": {},
   "outputs": [],
   "source": [
    "data['Open']=data['Open'].fillna(data['Open'].mean())"
   ]
  },
  {
   "cell_type": "code",
   "execution_count": 67,
   "id": "fe8fed5d",
   "metadata": {},
   "outputs": [
    {
     "data": {
      "text/plain": [
       "array([ 364.        ,  373.5       ,  385.        ,  427.4       ,\n",
       "        428.        ,  435.        ,  438.        ,  451.16      ,\n",
       "        454.        ,  455.        ,  456.        ,  458.75      ,\n",
       "        464.        ,  466.25      ,  467.        ,  471.        ,\n",
       "        471.6       ,  474.        ,  478.        ,  480.        ,\n",
       "        483.2       ,  487.9       ,  491.7       ,  494.2       ,\n",
       "        495.1       ,  498.        ,  507.        ,  518.        ,\n",
       "        519.55      ,  530.        ,  532.        ,  540.        ,\n",
       "        541.        ,  546.7       ,  548.        ,  558.        ,\n",
       "        559.        ,  560.        ,  566.01      ,  568.7       ,\n",
       "        573.        ,  573.6       ,  573.9       ,  579.        ,\n",
       "        580.        ,  580.6       ,  585.        ,  591.        ,\n",
       "        593.        ,  597.        ,  599.        ,  606.        ,\n",
       "        607.        ,  610.        ,  611.5       ,  614.55      ,\n",
       "        619.        ,  620.        ,  630.        ,  635.        ,\n",
       "        637.        ,  642.        ,  647.9       ,  649.95      ,\n",
       "        651.        ,  653.        ,  660.        ,  661.        ,\n",
       "        663.7       ,  664.        ,  664.45      ,  668.35      ,\n",
       "        669.9       ,  670.        ,  672.        ,  674.14      ,\n",
       "        675.        ,  676.92      ,  680.25      ,  685.8       ,\n",
       "        686.75      ,  687.        ,  688.        ,  689.        ,\n",
       "        693.        ,  700.        ,  700.04      ,  702.1       ,\n",
       "        703.        ,  704.        ,  705.        ,  705.2       ,\n",
       "        706.25      ,  707.4       ,  708.        ,  710.        ,\n",
       "        712.        ,  712.5       ,  715.        ,  716.9       ,\n",
       "        718.        ,  718.95      ,  719.4       ,  722.        ,\n",
       "        724.        ,  724.8       ,  729.8       ,  731.        ,\n",
       "        735.5       ,  736.5       ,  736.6       ,  737.        ,\n",
       "        738.        ,  739.1       ,  740.        ,  741.        ,\n",
       "        745.        ,  746.        ,  747.        ,  748.1       ,\n",
       "        750.        ,  753.        ,  756.        ,  758.3       ,\n",
       "        759.5       ,  760.        ,  762.        ,  763.1       ,\n",
       "        764.2       ,  765.        ,  766.        ,  767.        ,\n",
       "        767.25      ,  768.        ,  769.        ,  770.        ,\n",
       "        770.05      ,  770.7       ,  771.        ,  773.        ,\n",
       "        773.45      ,  776.3       ,  777.35      ,  780.        ,\n",
       "        785.        ,  786.        ,  787.        ,  788.        ,\n",
       "        793.        ,  794.        ,  795.        ,  797.        ,\n",
       "        797.25      ,  797.9       ,  798.        ,  799.8       ,\n",
       "        802.        ,  803.        ,  804.        ,  808.        ,\n",
       "        811.95      ,  812.        ,  813.        ,  813.5       ,\n",
       "        814.85      ,  815.        ,  818.85      ,  820.5       ,\n",
       "        822.        ,  822.5       ,  824.55      ,  827.45      ,\n",
       "        830.1       ,  833.        ,  836.        ,  840.        ,\n",
       "        842.        ,  843.        ,  844.25      ,  845.25      ,\n",
       "        846.2       ,  847.        ,  850.        ,  851.        ,\n",
       "        853.3       ,  855.        ,  855.9       ,  856.        ,\n",
       "        857.1       ,  858.        ,  860.        ,  861.        ,\n",
       "        861.15      ,  862.1       ,  865.        ,  866.1       ,\n",
       "        867.        ,  870.        ,  870.45      ,  872.4       ,\n",
       "        874.5       ,  874.95      ,  876.1       ,  880.        ,\n",
       "        888.        ,  890.        ,  890.29176796,  891.25      ,\n",
       "        895.75      ,  900.        ,  910.        ,  911.4       ,\n",
       "        918.        ,  920.        ,  922.        ,  927.        ,\n",
       "        930.        ,  932.        ,  976.        ,  980.        ,\n",
       "        990.        , 1007.45      , 1013.3       , 1015.55      ,\n",
       "       1019.5       , 1028.        , 1029.        , 1035.        ,\n",
       "       1037.45      , 1039.4       , 1040.        , 1050.        ,\n",
       "       1055.        , 1060.        , 1061.        , 1064.45      ,\n",
       "       1066.95      , 1080.        , 1085.9       , 1090.        ,\n",
       "       1090.55      , 1099.        , 1101.05      , 1102.        ,\n",
       "       1102.5       , 1105.        , 1110.8       , 1120.        ,\n",
       "       1120.05      , 1122.35      , 1123.3       , 1125.        ,\n",
       "       1130.        , 1131.        , 1131.15      , 1131.8       ,\n",
       "       1137.        , 1144.        , 1148.        , 1155.05      ,\n",
       "       1159.95      , 1160.        , 1165.        , 1165.55      ,\n",
       "       1168.2       , 1168.75      , 1174.        , 1179.        ,\n",
       "       1180.        , 1180.05      , 1188.        , 1200.        ,\n",
       "       1201.7       , 1208.15      , 1210.        , 1224.65      ,\n",
       "       1225.2       , 1228.        , 1229.        , 1230.        ,\n",
       "       1235.55      , 1237.75      , 1240.        , 1255.        ,\n",
       "       1264.5       , 1265.        , 1265.5       , 1267.1       ,\n",
       "       1270.        , 1272.        , 1279.65      , 1280.        ,\n",
       "       1285.        , 1285.55      , 1290.        , 1291.        ,\n",
       "       1296.65      , 1301.        , 1310.        , 1318.        ,\n",
       "       1322.9       , 1325.2       , 1328.05      , 1330.        ,\n",
       "       1334.        , 1337.15      , 1340.95      , 1348.3       ,\n",
       "       1350.        , 1355.5       , 1366.5       , 1370.4       ,\n",
       "       1386.        , 1386.7       , 1395.5       , 1402.75      ,\n",
       "       1414.6       , 1415.05      , 1424.        , 1447.35      ,\n",
       "       1490.        , 1499.        , 1528.        , 1550.        ,\n",
       "       1575.        , 1580.        , 1614.        , 1620.        ,\n",
       "       1727.85      , 1755.8       , 1778.        , 1800.45      ,\n",
       "       2291.95      ])"
      ]
     },
     "execution_count": 67,
     "metadata": {},
     "output_type": "execute_result"
    }
   ],
   "source": [
    "np.unique(data['Open'])"
   ]
  },
  {
   "cell_type": "code",
   "execution_count": 68,
   "id": "9c55bd17",
   "metadata": {},
   "outputs": [
    {
     "data": {
      "text/plain": [
       "count      369\n",
       "unique     267\n",
       "top       zero\n",
       "freq        11\n",
       "Name: Volume, dtype: object"
      ]
     },
     "execution_count": 68,
     "metadata": {},
     "output_type": "execute_result"
    }
   ],
   "source": [
    "data['Volume'].describe()"
   ]
  },
  {
   "cell_type": "code",
   "execution_count": 69,
   "id": "2845b5b5",
   "metadata": {},
   "outputs": [
    {
     "data": {
      "text/plain": [
       "array(['10100', '10200', '10300', '10400', '10500', '10600', '10700',\n",
       "       '107800', '108900', '11000', '110400', '110800', '11100', '11300',\n",
       "       '113300', '11400', '114500', '11500', '116800', '11700', '11800',\n",
       "       '11900', '12000', '12100', '121000', '12200', '122300', '12300',\n",
       "       '12400', '12500', '125200', '125500', '12600', '126900', '12700',\n",
       "       '12800', '12900', '13000', '130800', '131900', '13300', '133300',\n",
       "       '13400', '13500', '135000', '135800', '13600', '13700', '13800',\n",
       "       '138500', '139400', '1400', '14100', '14300', '144600', '14600',\n",
       "       '14800', '14900', '151200', '152500', '15600', '15700', '16100',\n",
       "       '16400', '16500', '165200', '165800', '16600', '16700', '17100',\n",
       "       '17200', '17400', '17600', '17700', '17900', '18000', '18100',\n",
       "       '18400', '18700', '18900', '19000', '19200', '19400', '19600',\n",
       "       '19700', '19800', '19900', '199500', '20000', '203500', '20600',\n",
       "       '20800', '21200', '21700', '21900', '219500', '219600', '219700',\n",
       "       '22600', '230200', '230300', '23500', '23600', '23700', '24100',\n",
       "       '24500', '24600', '24800', '24900', '25000', '25300', '2600',\n",
       "       '26600', '26800', '27000', '27200', '272000', '27300', '27800',\n",
       "       '2800', '28300', '28500', '28600', '2900', '29400', '3000',\n",
       "       '30000', '30200', '30500', '3100', '3200', '32200', '32800',\n",
       "       '3300', '33300', '33500', '3400', '34300', '3500', '35100',\n",
       "       '35400', '35500', '36700', '36800', '36900', '3700', '37100',\n",
       "       '37900', '38200', '38300', '38400', '38500', '38600', '3900',\n",
       "       '4000', '402000', '412100', '4200', '42000', '4300', '43000',\n",
       "       '43300', '4400', '44400', '44500', '44600', '44700', '4500',\n",
       "       '45100', '4600', '46100', '46900', '4700', '47100', '47500',\n",
       "       '47700', '47900', '4800', '48400', '48800', '4900', '49100',\n",
       "       '49700', '49800', '5000', '50500', '5100', '51700', '51800',\n",
       "       '5200', '52700', '52800', '52900', '5300', '5400', '54000', '5500',\n",
       "       '56100', '56900', '5700', '5800', '58300', '5900', '59400', '6000',\n",
       "       '60300', '6100', '61000', '6200', '62700', '63500', '64900',\n",
       "       '65700', '6600', '66800', '6700', '67100', '67200', '6800',\n",
       "       '68800', '69200', '69800', '7000', '70100', '71300', '71500',\n",
       "       '71700', '7200', '72400', '7300', '7400', '74800', '7600', '76800',\n",
       "       '7700', '77900', '7800', '78300', '78700', '79000', '79100',\n",
       "       '8000', '81200', '8200', '8400', '843600', '8500', '85500', '8700',\n",
       "       '8800', '8900', '9000', '90100', '9100', '92800', '93000', '93300',\n",
       "       '9400', '94300', '94700', '9500', '9700', '9800', '98100', '99600',\n",
       "       '99900', 'zero'], dtype=object)"
      ]
     },
     "execution_count": 69,
     "metadata": {},
     "output_type": "execute_result"
    }
   ],
   "source": [
    "np.unique(data['Volume'])"
   ]
  },
  {
   "cell_type": "code",
   "execution_count": 70,
   "id": "663d4623",
   "metadata": {},
   "outputs": [],
   "source": [
    "data['Volume']=data.Volume.replace('zero',0)"
   ]
  },
  {
   "cell_type": "code",
   "execution_count": 71,
   "id": "3bb2f6fe",
   "metadata": {},
   "outputs": [],
   "source": [
    "data['Volume']=data.Volume.astype(int)"
   ]
  },
  {
   "cell_type": "code",
   "execution_count": 72,
   "id": "004fd291",
   "metadata": {},
   "outputs": [
    {
     "data": {
      "text/plain": [
       "count       369.000000\n",
       "mean      39097.831978\n",
       "std       67323.679903\n",
       "min           0.000000\n",
       "25%        6800.000000\n",
       "50%       16400.000000\n",
       "75%       47100.000000\n",
       "max      843600.000000\n",
       "Name: Volume, dtype: float64"
      ]
     },
     "execution_count": 72,
     "metadata": {},
     "output_type": "execute_result"
    }
   ],
   "source": [
    "data['Volume'].describe()"
   ]
  },
  {
   "cell_type": "code",
   "execution_count": 73,
   "id": "c3c1a60d",
   "metadata": {},
   "outputs": [
    {
     "data": {
      "text/plain": [
       "count     353.000000\n",
       "mean      858.892918\n",
       "std       275.803113\n",
       "min       366.000000\n",
       "25%       677.000000\n",
       "50%       804.000000\n",
       "75%      1071.950000\n",
       "max      1650.000000\n",
       "Name: High, dtype: float64"
      ]
     },
     "execution_count": 73,
     "metadata": {},
     "output_type": "execute_result"
    }
   ],
   "source": [
    "data['High'].describe()"
   ]
  },
  {
   "cell_type": "code",
   "execution_count": 74,
   "id": "c11925f5",
   "metadata": {},
   "outputs": [
    {
     "data": {
      "text/plain": [
       "array([ 366.  ,  366.2 ,  387.6 ,  405.5 ,  411.  ,  432.  ,  433.  ,\n",
       "        439.  ,  440.8 ,  444.  ,  457.4 ,  458.  ,  458.55,  458.75,\n",
       "        464.  ,  464.2 ,  469.  ,  469.58,  472.  ,  474.  ,  475.  ,\n",
       "        476.  ,  479.  ,  480.  ,  480.67,  484.  ,  487.35,  490.  ,\n",
       "        491.  ,  493.  ,  493.05,  499.8 ,  509.68,  517.  ,  519.  ,\n",
       "        519.55,  526.4 ,  531.9 ,  540.2 ,  544.4 ,  551.02,  555.  ,\n",
       "        563.7 ,  567.  ,  568.  ,  568.8 ,  573.  ,  573.6 ,  573.9 ,\n",
       "        574.  ,  578.  ,  579.6 ,  583.1 ,  585.4 ,  587.45,  587.7 ,\n",
       "        590.05,  591.6 ,  592.  ,  609.  ,  610.  ,  615.45,  619.  ,\n",
       "        620.  ,  621.9 ,  622.  ,  623.85,  626.01,  628.35,  636.65,\n",
       "        642.  ,  644.  ,  650.  ,  650.8 ,  654.5 ,  654.55,  660.  ,\n",
       "        662.  ,  664.  ,  667.  ,  668.9 ,  671.  ,  677.  ,  678.  ,\n",
       "        679.4 ,  683.  ,  685.  ,  685.55,  686.9 ,  687.4 ,  688.  ,\n",
       "        689.  ,  690.25,  692.  ,  693.5 ,  695.8 ,  696.  ,  697.  ,\n",
       "        697.8 ,  702.1 ,  702.7 ,  704.2 ,  705.  ,  706.5 ,  709.2 ,\n",
       "        709.6 ,  711.2 ,  712.98,  714.  ,  717.  ,  722.6 ,  723.01,\n",
       "        724.  ,  726.8 ,  727.  ,  728.  ,  729.  ,  730.  ,  731.  ,\n",
       "        732.95,  734.75,  740.  ,  741.95,  747.  ,  749.  ,  752.  ,\n",
       "        753.  ,  755.2 ,  756.65,  759.  ,  760.  ,  766.  ,  766.95,\n",
       "        767.  ,  767.25,  767.85,  768.  ,  768.85,  770.  ,  774.  ,\n",
       "        774.75,  775.  ,  776.  ,  776.5 ,  778.8 ,  779.6 ,  781.  ,\n",
       "        784.9 ,  785.  ,  785.05,  786.5 ,  789.  ,  790.  ,  791.  ,\n",
       "        794.5 ,  794.85,  795.8 ,  796.5 ,  798.9 ,  799.  ,  799.8 ,\n",
       "        800.  ,  801.6 ,  804.  ,  804.8 ,  806.  ,  807.  ,  808.55,\n",
       "        813.  ,  813.5 ,  814.  ,  815.9 ,  818.  ,  818.8 ,  819.05,\n",
       "        820.  ,  822.4 ,  822.9 ,  824.95,  825.  ,  825.95,  828.8 ,\n",
       "        830.  ,  830.1 ,  837.  ,  838.  ,  840.  ,  840.45,  840.95,\n",
       "        841.8 ,  845.  ,  846.85,  847.75,  850.  ,  853.9 ,  856.45,\n",
       "        857.65,  858.7 ,  859.8 ,  859.95,  860.  ,  860.1 ,  863.  ,\n",
       "        863.3 ,  864.  ,  864.85,  865.  ,  866.7 ,  867.  ,  871.85,\n",
       "        875.  ,  877.5 ,  878.  ,  879.  ,  879.9 ,  880.  ,  881.3 ,\n",
       "        890.  ,  890.9 ,  896.9 ,  898.  ,  899.  ,  901.5 ,  906.  ,\n",
       "        910.  ,  914.95,  917.8 ,  921.  ,  922.7 ,  928.  ,  932.85,\n",
       "        938.1 ,  949.  ,  950.  ,  981.6 , 1013.3 , 1014.15, 1025.  ,\n",
       "       1027.  , 1030.9 , 1033.05, 1040.  , 1048.25, 1055.  , 1057.9 ,\n",
       "       1060.  , 1065.  , 1069.  , 1071.95, 1074.35, 1080.  , 1086.  ,\n",
       "       1103.  , 1106.65, 1106.7 , 1112.  , 1120.  , 1123.3 , 1123.9 ,\n",
       "       1124.  , 1124.9 , 1125.  , 1128.  , 1131.15, 1135.  , 1137.  ,\n",
       "       1139.  , 1139.9 , 1147.4 , 1148.  , 1155.8 , 1159.  , 1166.  ,\n",
       "       1168.2 , 1169.8 , 1175.15, 1176.  , 1176.55, 1177.15, 1180.  ,\n",
       "       1180.8 , 1201.  , 1201.7 , 1205.  , 1208.  , 1229.  , 1232.  ,\n",
       "       1232.3 , 1237.75, 1240.  , 1244.  , 1250.  , 1263.5 , 1274.9 ,\n",
       "       1275.05, 1280.  , 1281.  , 1285.  , 1287.  , 1290.4 , 1291.  ,\n",
       "       1298.  , 1299.7 , 1312.  , 1315.15, 1322.1 , 1324.  , 1331.95,\n",
       "       1336.  , 1338.05, 1338.15, 1344.95, 1345.  , 1354.3 , 1375.25,\n",
       "       1375.95, 1376.  , 1376.4 , 1378.9 , 1386.  , 1392.  , 1421.  ,\n",
       "       1432.7 , 1432.8 , 1435.  , 1445.  , 1500.  , 1505.  , 1528.  ,\n",
       "       1649.9 , 1650.  ,     nan])"
      ]
     },
     "execution_count": 74,
     "metadata": {},
     "output_type": "execute_result"
    }
   ],
   "source": [
    "np.unique(data['High'])"
   ]
  },
  {
   "cell_type": "code",
   "execution_count": 75,
   "id": "bdc94386",
   "metadata": {},
   "outputs": [],
   "source": [
    "data['High']=data['High'].fillna(data['High'].mean())"
   ]
  },
  {
   "cell_type": "code",
   "execution_count": 76,
   "id": "83bf71c1",
   "metadata": {},
   "outputs": [
    {
     "data": {
      "text/plain": [
       "count     356.000000\n",
       "mean      856.357472\n",
       "std       269.437014\n",
       "min       354.000000\n",
       "25%       680.750000\n",
       "50%       797.250000\n",
       "75%      1077.537500\n",
       "max      1600.050000\n",
       "Name: Low, dtype: float64"
      ]
     },
     "execution_count": 76,
     "metadata": {},
     "output_type": "execute_result"
    }
   ],
   "source": [
    "data['Low'].describe()"
   ]
  },
  {
   "cell_type": "code",
   "execution_count": 77,
   "id": "4f258330",
   "metadata": {},
   "outputs": [
    {
     "data": {
      "text/plain": [
       "array([ 354.  ,  365.2 ,  366.  ,  414.05,  419.  ,  421.1 ,  430.  ,\n",
       "        440.  ,  442.  ,  447.6 ,  448.45,  449.2 ,  450.9 ,  451.1 ,\n",
       "        453.4 ,  455.  ,  456.  ,  458.2 ,  458.75,  461.25,  465.  ,\n",
       "        470.  ,  475.  ,  475.8 ,  480.05,  486.25,  487.35,  489.  ,\n",
       "        491.35,  493.  ,  517.  ,  519.55,  520.5 ,  522.15,  525.  ,\n",
       "        538.35,  541.  ,  546.  ,  546.5 ,  547.95,  550.15,  552.85,\n",
       "        556.  ,  556.05,  560.  ,  562.02,  570.  ,  572.  ,  573.  ,\n",
       "        574.67,  580.  ,  581.2 ,  585.  ,  588.  ,  591.5 ,  593.  ,\n",
       "        597.4 ,  601.1 ,  601.4 ,  604.3 ,  611.  ,  613.  ,  615.  ,\n",
       "        621.05,  626.35,  632.05,  635.  ,  637.  ,  638.  ,  642.8 ,\n",
       "        646.05,  649.1 ,  650.  ,  657.05,  664.  ,  666.2 ,  669.9 ,\n",
       "        670.  ,  674.14,  675.  ,  675.05,  675.1 ,  676.  ,  676.2 ,\n",
       "        678.5 ,  680.  ,  681.  ,  682.9 ,  683.  ,  685.  ,  687.  ,\n",
       "        690.  ,  691.  ,  692.6 ,  696.  ,  701.01,  702.  ,  703.1 ,\n",
       "        704.2 ,  704.8 ,  705.  ,  706.25,  710.05,  712.  ,  712.1 ,\n",
       "        713.  ,  715.  ,  715.15,  715.6 ,  716.  ,  716.75,  720.  ,\n",
       "        722.8 ,  723.6 ,  725.  ,  725.15,  726.2 ,  732.15,  732.55,\n",
       "        733.85,  734.1 ,  734.5 ,  735.  ,  740.  ,  741.  ,  741.1 ,\n",
       "        743.  ,  748.  ,  749.  ,  751.  ,  752.2 ,  753.35,  755.  ,\n",
       "        755.35,  760.42,  763.  ,  764.  ,  765.2 ,  765.5 ,  765.55,\n",
       "        767.  ,  767.25,  767.85,  770.  ,  770.05,  771.  ,  771.1 ,\n",
       "        772.  ,  774.5 ,  775.  ,  775.25,  776.3 ,  777.35,  778.3 ,\n",
       "        780.4 ,  782.1 ,  782.35,  785.  ,  786.  ,  786.05,  787.8 ,\n",
       "        789.  ,  789.05,  790.  ,  790.95,  795.8 ,  796.  ,  798.5 ,\n",
       "        801.  ,  802.  ,  802.25,  803.  ,  805.  ,  808.15,  813.25,\n",
       "        816.  ,  818.  ,  818.1 ,  819.05,  820.5 ,  821.15,  824.6 ,\n",
       "        825.  ,  825.05,  830.  ,  831.1 ,  831.25,  832.85,  837.1 ,\n",
       "        837.7 ,  838.  ,  839.5 ,  840.  ,  840.45,  841.5 ,  842.  ,\n",
       "        844.5 ,  844.6 ,  845.  ,  845.25,  846.  ,  847.  ,  848.  ,\n",
       "        851.05,  852.05,  854.  ,  855.  ,  858.15,  859.  ,  859.2 ,\n",
       "        860.5 ,  861.3 ,  862.  ,  862.15,  862.35,  865.  ,  866.  ,\n",
       "        870.  ,  874.1 ,  878.05,  878.5 ,  885.  ,  901.  ,  905.  ,\n",
       "        910.  ,  914.  ,  921.  ,  926.1 ,  927.  ,  945.  ,  963.05,\n",
       "        975.  ,  980.25,  990.  ,  991.15,  996.5 , 1001.  , 1004.1 ,\n",
       "       1005.  , 1014.25, 1015.05, 1021.15, 1030.  , 1032.8 , 1035.6 ,\n",
       "       1036.35, 1045.  , 1050.  , 1061.  , 1071.  , 1077.  , 1079.15,\n",
       "       1080.  , 1085.9 , 1088.05, 1090.  , 1091.05, 1093.45, 1095.  ,\n",
       "       1097.1 , 1101.05, 1105.3 , 1107.  , 1112.2 , 1114.  , 1115.  ,\n",
       "       1120.05, 1129.6 , 1131.  , 1136.95, 1142.  , 1148.4 , 1149.4 ,\n",
       "       1150.  , 1155.  , 1160.  , 1161.8 , 1170.05, 1171.15, 1174.8 ,\n",
       "       1175.  , 1182.6 , 1201.7 , 1206.1 , 1208.95, 1210.  , 1213.1 ,\n",
       "       1215.  , 1215.6 , 1216.2 , 1218.45, 1234.05, 1237.75, 1239.6 ,\n",
       "       1241.55, 1247.4 , 1255.  , 1257.  , 1258.25, 1261.  , 1262.3 ,\n",
       "       1264.  , 1264.5 , 1266.9 , 1272.  , 1275.  , 1284.2 , 1291.15,\n",
       "       1296.25, 1297.7 , 1307.2 , 1313.  , 1325.  , 1325.05, 1327.  ,\n",
       "       1328.  , 1331.95, 1333.  , 1340.  , 1341.25, 1364.95, 1367.  ,\n",
       "       1382.  , 1394.  , 1395.1 , 1405.1 , 1445.  , 1453.  , 1500.  ,\n",
       "       1501.  , 1558.  , 1565.  , 1600.05,     nan])"
      ]
     },
     "execution_count": 77,
     "metadata": {},
     "output_type": "execute_result"
    }
   ],
   "source": [
    "np.unique(data['Low'])"
   ]
  },
  {
   "cell_type": "code",
   "execution_count": 78,
   "id": "c1498916",
   "metadata": {},
   "outputs": [],
   "source": [
    "data['Low']=data['Low'].fillna(data['Low'].mean())"
   ]
  },
  {
   "cell_type": "code",
   "execution_count": 79,
   "id": "2be719d9",
   "metadata": {},
   "outputs": [
    {
     "data": {
      "text/plain": [
       "count     355.000000\n",
       "mean      867.098817\n",
       "std       271.498216\n",
       "min       363.600000\n",
       "25%       688.375000\n",
       "50%       804.300000\n",
       "75%      1089.425000\n",
       "max      1607.850000\n",
       "Name: Close, dtype: float64"
      ]
     },
     "execution_count": 79,
     "metadata": {},
     "output_type": "execute_result"
    }
   ],
   "source": [
    "data['Close'].describe()"
   ]
  },
  {
   "cell_type": "code",
   "execution_count": 80,
   "id": "ac8901d8",
   "metadata": {},
   "outputs": [
    {
     "data": {
      "text/plain": [
       "array([ 363.6 ,  372.3 ,  400.35,  420.55,  424.3 ,  429.  ,  440.1 ,\n",
       "        444.42,  446.17,  452.9 ,  453.9 ,  455.1 ,  458.75,  460.26,\n",
       "        461.05,  465.5 ,  466.1 ,  466.15,  466.52,  473.8 ,  477.8 ,\n",
       "        478.05,  480.92,  487.35,  492.45,  494.8 ,  497.1 ,  498.97,\n",
       "        511.1 ,  519.55,  521.66,  523.55,  527.15,  529.55,  550.35,\n",
       "        552.09,  556.9 ,  560.85,  560.9 ,  564.04,  564.85,  567.33,\n",
       "        570.25,  574.05,  574.4 ,  576.9 ,  578.39,  579.05,  579.85,\n",
       "        580.85,  582.45,  583.4 ,  585.96,  586.7 ,  592.4 ,  594.1 ,\n",
       "        595.5 ,  603.95,  605.  ,  607.15,  617.1 ,  617.79,  621.35,\n",
       "        621.75,  628.25,  638.05,  641.35,  642.4 ,  643.65,  646.3 ,\n",
       "        651.6 ,  653.2 ,  659.65,  662.6 ,  669.1 ,  673.05,  673.25,\n",
       "        674.3 ,  679.01,  679.35,  679.72,  680.1 ,  682.85,  683.4 ,\n",
       "        684.25,  684.35,  685.05,  687.6 ,  689.15,  690.35,  690.8 ,\n",
       "        692.55,  694.85,  695.4 ,  698.6 ,  703.65,  704.45,  704.9 ,\n",
       "        705.9 ,  708.75,  710.15,  712.8 ,  716.5 ,  717.25,  717.3 ,\n",
       "        717.56,  718.04,  718.15,  718.53,  720.05,  720.3 ,  720.9 ,\n",
       "        721.62,  723.85,  724.25,  728.3 ,  730.15,  730.26,  734.7 ,\n",
       "        735.8 ,  737.  ,  737.5 ,  738.24,  739.02,  742.1 ,  742.25,\n",
       "        742.81,  743.45,  744.25,  751.2 ,  752.85,  753.3 ,  755.  ,\n",
       "        755.25,  756.4 ,  758.22,  759.7 ,  760.55,  760.7 ,  766.55,\n",
       "        767.25,  767.8 ,  767.85,  769.61,  769.7 ,  770.35,  771.8 ,\n",
       "        771.85,  777.6 ,  777.9 ,  780.7 ,  781.63,  782.  ,  782.2 ,\n",
       "        782.85,  782.9 ,  783.15,  783.45,  783.95,  784.55,  790.05,\n",
       "        791.15,  792.25,  792.75,  794.05,  795.5 ,  795.8 ,  796.1 ,\n",
       "        796.45,  797.25,  798.2 ,  799.5 ,  800.9 ,  801.05,  801.65,\n",
       "        803.25,  804.3 ,  806.7 ,  810.55,  813.15,  813.25,  813.75,\n",
       "        814.35,  818.  ,  818.55,  819.76,  819.8 ,  820.6 ,  825.  ,\n",
       "        827.5 ,  828.  ,  828.95,  829.1 ,  832.4 ,  833.5 ,  833.75,\n",
       "        835.95,  837.4 ,  839.2 ,  840.1 ,  840.45,  841.65,  843.95,\n",
       "        844.05,  847.1 ,  847.95,  849.6 ,  850.4 ,  850.55,  851.25,\n",
       "        851.75,  852.6 ,  856.  ,  856.57,  857.25,  857.3 ,  857.95,\n",
       "        858.6 ,  858.95,  860.05,  864.05,  864.1 ,  864.15,  865.05,\n",
       "        869.8 ,  871.65,  873.3 ,  874.75,  874.93,  876.15,  877.65,\n",
       "        879.35,  880.25,  890.95,  891.05,  894.1 ,  899.1 ,  903.26,\n",
       "        922.25,  925.65,  926.65,  934.6 ,  939.38,  943.84,  963.3 ,\n",
       "        968.75,  997.7 , 1001.1 , 1001.15, 1006.85, 1008.05, 1011.2 ,\n",
       "       1025.65, 1029.  , 1031.  , 1042.5 , 1043.7 , 1047.55, 1051.3 ,\n",
       "       1054.45, 1062.45, 1072.5 , 1081.55, 1083.15, 1086.2 , 1092.65,\n",
       "       1103.3 , 1104.25, 1104.45, 1106.15, 1109.65, 1109.75, 1110.9 ,\n",
       "       1114.75, 1115.85, 1116.8 , 1117.5 , 1117.6 , 1118.45, 1126.55,\n",
       "       1132.7 , 1136.1 , 1141.55, 1147.05, 1147.3 , 1147.85, 1148.65,\n",
       "       1153.3 , 1155.55, 1166.55, 1172.4 , 1174.65, 1174.7 , 1176.95,\n",
       "       1178.85, 1190.5 , 1191.35, 1195.15, 1195.35, 1201.7 , 1210.15,\n",
       "       1216.4 , 1218.6 , 1222.3 , 1223.85, 1229.8 , 1232.  , 1236.35,\n",
       "       1237.75, 1244.45, 1250.65, 1261.55, 1264.75, 1266.7 , 1267.5 ,\n",
       "       1267.55, 1270.55, 1270.95, 1273.3 , 1275.85, 1276.4 , 1276.55,\n",
       "       1281.1 , 1286.45, 1291.25, 1299.85, 1302.85, 1307.4 , 1318.75,\n",
       "       1329.55, 1330.2 , 1330.85, 1331.95, 1333.85, 1334.1 , 1339.6 ,\n",
       "       1353.55, 1359.5 , 1362.5 , 1372.3 , 1376.55, 1381.9 , 1390.4 ,\n",
       "       1402.  , 1414.85, 1425.45, 1456.05, 1457.2 , 1510.95, 1525.  ,\n",
       "       1548.  , 1590.75, 1602.95, 1607.85,     nan])"
      ]
     },
     "execution_count": 80,
     "metadata": {},
     "output_type": "execute_result"
    }
   ],
   "source": [
    "np.unique(data['Close'])"
   ]
  },
  {
   "cell_type": "code",
   "execution_count": 81,
   "id": "056e6ce9",
   "metadata": {},
   "outputs": [],
   "source": [
    "data['Close']=data['Close'].fillna(data['Close'].mean())"
   ]
  },
  {
   "cell_type": "code",
   "execution_count": 83,
   "id": "04d496f0",
   "metadata": {},
   "outputs": [],
   "source": [
    "#"
   ]
  },
  {
   "cell_type": "code",
   "execution_count": 38,
   "id": "cbdf0181",
   "metadata": {},
   "outputs": [],
   "source": [
    "import seaborn as sns"
   ]
  },
  {
   "cell_type": "code",
   "execution_count": 39,
   "id": "066810fe",
   "metadata": {},
   "outputs": [
    {
     "data": {
      "text/plain": [
       "<AxesSubplot:ylabel='Open'>"
      ]
     },
     "execution_count": 39,
     "metadata": {},
     "output_type": "execute_result"
    },
    {
     "data": {
      "image/png": "[encoded data removed]",
      "text/plain": [
       "<Figure size 640x480 with 1 Axes>"
      ]
     },
     "metadata": {},
     "output_type": "display_data"
    }
   ],
   "source": [
    "sns.boxplot(y=data['Open'])"
   ]
  },
  {
   "cell_type": "code",
   "execution_count": 40,
   "id": "09a9e1fc",
   "metadata": {},
   "outputs": [
    {
     "data": {
      "text/plain": [
       "818.85"
      ]
     },
     "execution_count": 40,
     "metadata": {},
     "output_type": "execute_result"
    }
   ],
   "source": [
    "data['Open'].median()"
   ]
  },
  {
   "cell_type": "code",
   "execution_count": 41,
   "id": "d39d8a9c",
   "metadata": {},
   "outputs": [],
   "source": [
    "data['Open']=np.where(data['Open']>=2000,data['Open'].median(),data['Open'])"
   ]
  },
  {
   "cell_type": "code",
   "execution_count": 42,
   "id": "11694cd9",
   "metadata": {},
   "outputs": [
    {
     "data": {
      "text/plain": [
       "count     369.000000\n",
       "mean      886.299627\n",
       "std       285.946198\n",
       "min       364.000000\n",
       "25%       703.000000\n",
       "50%       818.850000\n",
       "75%      1102.000000\n",
       "max      1800.450000\n",
       "Name: Open, dtype: float64"
      ]
     },
     "execution_count": 42,
     "metadata": {},
     "output_type": "execute_result"
    }
   ],
   "source": [
    "data['Open'].describe()"
   ]
  },
  {
   "cell_type": "code",
   "execution_count": 43,
   "id": "4045938e",
   "metadata": {},
   "outputs": [
    {
     "data": {
      "text/plain": [
       "<AxesSubplot:ylabel='Volume'>"
      ]
     },
     "execution_count": 43,
     "metadata": {},
     "output_type": "execute_result"
    },
    {
     "data": {
      "image/png": "[encoded data removed]",
      "text/plain": [
       "<Figure size 640x480 with 1 Axes>"
      ]
     },
     "metadata": {},
     "output_type": "display_data"
    }
   ],
   "source": [
    "sns.boxplot(y=data['Volume'])"
   ]
  },
  {
   "cell_type": "code",
   "execution_count": 44,
   "id": "a01e14ab",
   "metadata": {},
   "outputs": [
    {
     "data": {
      "text/plain": [
       "16400.0"
      ]
     },
     "execution_count": 44,
     "metadata": {},
     "output_type": "execute_result"
    }
   ],
   "source": [
    "data['Volume'].median()"
   ]
  },
  {
   "cell_type": "code",
   "execution_count": 45,
   "id": "2e7f7eed",
   "metadata": {},
   "outputs": [],
   "source": [
    "data['Volume']=np.where(data['Volume']>=300000,data['Volume'].median(),data['Volume'])"
   ]
  },
  {
   "cell_type": "code",
   "execution_count": 46,
   "id": "46dfd5e3",
   "metadata": {},
   "outputs": [
    {
     "data": {
      "text/plain": [
       "count       369.000000\n",
       "mean      34738.753388\n",
       "std       44976.851408\n",
       "min           0.000000\n",
       "25%        6800.000000\n",
       "50%       16400.000000\n",
       "75%       46100.000000\n",
       "max      272000.000000\n",
       "Name: Volume, dtype: float64"
      ]
     },
     "execution_count": 46,
     "metadata": {},
     "output_type": "execute_result"
    }
   ],
   "source": [
    "data['Volume'].describe()"
   ]
  },
  {
   "cell_type": "code",
   "execution_count": 47,
   "id": "64306fd9",
   "metadata": {},
   "outputs": [
    {
     "name": "stdout",
     "output_type": "stream",
     "text": [
      "<class 'pandas.core.frame.DataFrame'>\n",
      "Int64Index: 369 entries, 0 to 203\n",
      "Data columns (total 6 columns):\n",
      " #   Column  Non-Null Count  Dtype  \n",
      "---  ------  --------------  -----  \n",
      " 0   Date    369 non-null    object \n",
      " 1   Open    369 non-null    float64\n",
      " 2   High    369 non-null    float64\n",
      " 3   Low     369 non-null    float64\n",
      " 4   Close   369 non-null    float64\n",
      " 5   Volume  369 non-null    float64\n",
      "dtypes: float64(5), object(1)\n",
      "memory usage: 20.2+ KB\n"
     ]
    }
   ],
   "source": [
    "data.info()"
   ]
  },
  {
   "cell_type": "code",
   "execution_count": null,
   "id": "bee7af90",
   "metadata": {},
   "outputs": [],
   "source": []
  },
  {
   "cell_type": "code",
   "execution_count": null,
   "id": "faed5861",
   "metadata": {},
   "outputs": [],
   "source": []
  }
 ],
 "metadata": {
  "kernelspec": {
   "display_name": "Python 3 (ipykernel)",
   "language": "python",
   "name": "python3"
  },
  "language_info": {
   "codemirror_mode": {
    "name": "ipython",
    "version": 3
   },
   "file_extension": ".py",
   "mimetype": "text/x-python",
   "name": "python",
   "nbconvert_exporter": "python",
   "pygments_lexer": "ipython3",
   "version": "3.9.13"
  }
 },
 "nbformat": 4,
 "nbformat_minor": 5
}
